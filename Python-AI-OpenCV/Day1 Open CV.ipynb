{
 "cells": [
  {
   "cell_type": "code",
   "execution_count": 1,
   "id": "34c0e8ac-cf0b-44f1-be34-96d013e1965f",
   "metadata": {},
   "outputs": [],
   "source": [
    "#Documentation : CV :computer vision by use of python programming\n",
    "# we can do object classification , identification, tracking , feature matching,\n",
    "#video motion analysis.\n",
    "\n",
    "#Process Workflow : acquire the images -> process the image ->understand the image\n",
    "# self driving car will be using image processing.\n",
    "\n",
    "#probably for ai : visit link : https://chatgpt.com/share/68d4b12e-0214-800a-babd-bac81d195c44\n",
    "#Description : Need Camera / image sensors related."
   ]
  },
  {
   "cell_type": "code",
   "execution_count": 2,
   "id": "ff2b849d-73db-476e-9da8-8fae8afb4483",
   "metadata": {},
   "outputs": [],
   "source": [
    "#open cv is written in C++ will support all the major operating system"
   ]
  },
  {
   "cell_type": "code",
   "execution_count": 4,
   "id": "4198f2a6-629a-48eb-a57b-835743ecc659",
   "metadata": {},
   "outputs": [],
   "source": [
    "#image becomes a matrix : open cv will work on the matrix of pixels.\n",
    "#This will work on the GrayScale and RGB values"
   ]
  },
  {
   "cell_type": "code",
   "execution_count": 5,
   "id": "a52e40bc-0e54-4cab-86a7-31207820abcc",
   "metadata": {},
   "outputs": [],
   "source": [
    "#openCV is fast , needs 70 mb ram minimum, works with all languages.\n",
    "#numpy , matplot lib is used with it. It has many modules and sub modules\n",
    "#code written in the jupyter notebook. (You may use google colab)"
   ]
  },
  {
   "cell_type": "code",
   "execution_count": 6,
   "id": "2c8347c3-d955-41f0-b894-8a7fbc75d1fa",
   "metadata": {},
   "outputs": [
    {
     "name": "stdout",
     "output_type": "stream",
     "text": [
      "Collecting opencv-python\n",
      "  Downloading opencv_python-4.12.0.88-cp37-abi3-win_amd64.whl.metadata (19 kB)\n",
      "Requirement already satisfied: numpy<2.3.0,>=2 in c:\\users\\lenovo\\anaconda3\\lib\\site-packages (from opencv-python) (2.1.3)\n",
      "Downloading opencv_python-4.12.0.88-cp37-abi3-win_amd64.whl (39.0 MB)\n",
      "   ---------------------------------------- 0.0/39.0 MB ? eta -:--:--\n",
      "   -- ------------------------------------- 2.4/39.0 MB 16.4 MB/s eta 0:00:03\n",
      "   -------- ------------------------------- 8.7/39.0 MB 24.9 MB/s eta 0:00:02\n",
      "   ---------------- ----------------------- 15.7/39.0 MB 28.5 MB/s eta 0:00:01\n",
      "   ---------------------- ----------------- 21.8/39.0 MB 28.8 MB/s eta 0:00:01\n",
      "   ----------------------------- ---------- 28.6/39.0 MB 29.6 MB/s eta 0:00:01\n",
      "   ------------------------------------- -- 36.2/39.0 MB 30.8 MB/s eta 0:00:01\n",
      "   ---------------------------------------- 39.0/39.0 MB 29.2 MB/s eta 0:00:00\n",
      "Installing collected packages: opencv-python\n",
      "Successfully installed opencv-python-4.12.0.88\n",
      "Note: you may need to restart the kernel to use updated packages.\n"
     ]
    }
   ],
   "source": [
    "pip install opencv-python"
   ]
  },
  {
   "cell_type": "code",
   "execution_count": 2,
   "id": "a80ea803-fd38-41e7-8b32-8560df55e3b2",
   "metadata": {},
   "outputs": [],
   "source": [
    "import cv2 # runs without err msg : means installed dependency successfully"
   ]
  },
  {
   "cell_type": "code",
   "execution_count": 7,
   "id": "a01cffb1-4584-4dca-a5c1-82ff51617665",
   "metadata": {},
   "outputs": [],
   "source": [
    "# Lesson 1 : Read and show the image\n",
    "import cv2\n",
    "# read by imread \n",
    "#image inside the same folder\n",
    "img = cv2.imread(\"image-assets/img1.jpg\") #image was read\n",
    "cv2.imshow(\"img1 \",img) # will make a window for you to see your image that you have read.\n",
    "#to stop the window\n",
    "cv2.waitKey(0) #time is given in milliseconds : press 0 to close by keypress\n",
    "#to destroy the windows\n",
    "cv2.destroyAllWindows() # all windows will be closed\n",
    "#cv2.destroyWindow() #will destroy the specific window\n"
   ]
  },
  {
   "cell_type": "code",
   "execution_count": 12,
   "id": "5c595091-0322-415f-bcfa-e138d6bd7bed",
   "metadata": {},
   "outputs": [],
   "source": [
    "# Lesson 2 : To show the multiple windows\n",
    "import cv2\n",
    "img_window1 = cv2.imread(\"image-assets/img1.jpg\")\n",
    "img_window2 = cv2.imread(\"image-assets/img1.jpg\")\n",
    "cv2.imshow(\"Image Window 1\",img_window1)\n",
    "cv2.imshow(\"Image Window 2\",img_window2)\n",
    "cv2.waitKey(0)\n",
    "cv2.destroyAllWindows()\n",
    "\n",
    "# always close by pressing the escape key."
   ]
  },
  {
   "cell_type": "code",
   "execution_count": 14,
   "id": "e3fa5687-b51a-4956-aa7b-40c50a194ea9",
   "metadata": {},
   "outputs": [],
   "source": [
    "# Lesson 3 : To make a frame to show images and resize them\n",
    "import cv2\n",
    "img = cv2.imread(r\"C:\\Users\\Lenovo\\Desktop\\PYTHON-MCA\\Python-AI-OpenCV\\image-assets\\img1.jpg\") \n",
    "# goto  the image and copy the entire path of location : r means the realtive path\n",
    "\n",
    "#always resize your image before showing them:\n",
    "resize_image = cv2.resize(img,(500,300)) # (width,height)\n",
    "cv2.imshow(\"image 1\",resize_image)\n",
    "cv2.waitKey(0)\n",
    "cv2.destroyAllWindows()"
   ]
  },
  {
   "cell_type": "code",
   "execution_count": 16,
   "id": "336d4ad9-d322-4e84-a017-59b269f6f77a",
   "metadata": {},
   "outputs": [
    {
     "name": "stdout",
     "output_type": "stream",
     "text": [
      "[[[ 41  85  78]\n",
      "  [ 47  94  86]\n",
      "  [ 14  65  57]\n",
      "  ...\n",
      "  [ 60 172 162]\n",
      "  [ 58 167 158]\n",
      "  [ 63 170 161]]\n",
      "\n",
      " [[  0   8   0]\n",
      "  [114 167 158]\n",
      "  [ 65 122 113]\n",
      "  ...\n",
      "  [ 63 176 166]\n",
      "  [ 63 172 163]\n",
      "  [ 67 174 165]]\n",
      "\n",
      " [[  0  66  55]\n",
      "  [108 176 165]\n",
      "  [ 86 155 144]\n",
      "  ...\n",
      "  [ 71 186 176]\n",
      "  [ 72 184 174]\n",
      "  [ 76 185 176]]\n",
      "\n",
      " ...\n",
      "\n",
      " [[149 175 189]\n",
      "  [155 181 195]\n",
      "  [152 178 192]\n",
      "  ...\n",
      "  [103 122 135]\n",
      "  [108 127 140]\n",
      "  [100 119 132]]\n",
      "\n",
      " [[145 171 185]\n",
      "  [142 168 182]\n",
      "  [140 166 180]\n",
      "  ...\n",
      "  [124 143 156]\n",
      "  [109 128 141]\n",
      "  [ 97 116 129]]\n",
      "\n",
      " [[147 173 187]\n",
      "  [144 170 184]\n",
      "  [148 174 188]\n",
      "  ...\n",
      "  [101 120 133]\n",
      "  [ 97 116 129]\n",
      "  [114 133 146]]]\n"
     ]
    }
   ],
   "source": [
    "#showing you the value of the pixels in image\n",
    "print(img)"
   ]
  },
  {
   "cell_type": "code",
   "execution_count": 19,
   "id": "a749fb0e-79d5-4797-a22e-0e659db2a3f8",
   "metadata": {},
   "outputs": [],
   "source": [
    "# Lesson 4 : To make a frame and show multiple images like the array\n",
    "import cv2\n",
    "import numpy as np\n",
    "img = cv2.imread(r\"C:\\Users\\Lenovo\\Desktop\\PYTHON-MCA\\Python-AI-OpenCV\\image-assets\\img1.jpg\") \n",
    "# goto  the image and copy the entire path of location : r means the realtive path\n",
    "\n",
    "# v = np.array([[1,2,3,1,2,3],[1,2,3,1,2,3]]) how to make an array using numpy\n",
    "#always resize your image before showing them:\n",
    "resize_image = cv2.resize(img,(500,300)) # (width,height)\n",
    "h = np.hstack((resize_image,resize_image)) \n",
    "v = np.vstack((h,h))\n",
    "\n",
    "cv2.imshow(\"image 1\",v)\n",
    "cv2.waitKey(0)\n",
    "cv2.destroyAllWindows()"
   ]
  },
  {
   "cell_type": "code",
   "execution_count": 23,
   "id": "b4f8dd1b-2f02-4548-9086-6b558ddc85d2",
   "metadata": {},
   "outputs": [
    {
     "name": "stdout",
     "output_type": "stream",
     "text": [
      "['img1.jpg', 'img2.jpg']\n"
     ]
    }
   ],
   "source": [
    "#Lesson 5 making a slide show application\n",
    "import cv2\n",
    "import numpy as np\n",
    "import os\n",
    "\n",
    "list_name=os.listdir(r\"C:\\Users\\Lenovo\\Desktop\\PYTHON-MCA\\Python-AI-OpenCV\\image-assets\")\n",
    "print(list_name)\n",
    "\n",
    "for name in list_name:\n",
    "    path = \"C:\\\\Users\\\\Lenovo\\\\Desktop\\\\PYTHON-MCA\\\\Python-AI-OpenCV\\\\image-assets\"\n",
    "    img_name = path+\"\\\\\"+name\n",
    "    img = cv2.imread(img_name)\n",
    "    img = cv2.resize(img,(500,600))\n",
    "    cv2.imshow(\"Slide show\",img)\n",
    "    cv2.waitKey(0)\n",
    "cv2.destroyAllWindows()"
   ]
  },
  {
   "cell_type": "code",
   "execution_count": null,
   "id": "f4327feb-2b6e-489d-bc66-35137b35c7a7",
   "metadata": {},
   "outputs": [],
   "source": []
  }
 ],
 "metadata": {
  "kernelspec": {
   "display_name": "Python [conda env:base] *",
   "language": "python",
   "name": "conda-base-py"
  },
  "language_info": {
   "codemirror_mode": {
    "name": "ipython",
    "version": 3
   },
   "file_extension": ".py",
   "mimetype": "text/x-python",
   "name": "python",
   "nbconvert_exporter": "python",
   "pygments_lexer": "ipython3",
   "version": "3.13.5"
  }
 },
 "nbformat": 4,
 "nbformat_minor": 5
}
