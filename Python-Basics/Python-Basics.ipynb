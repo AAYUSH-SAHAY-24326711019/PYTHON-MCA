{
 "cells": [
  {
   "cell_type": "code",
   "execution_count": 2,
   "id": "5bdd1614-5929-451d-99e7-ab12431348fb",
   "metadata": {
    "collapsed": true,
    "jupyter": {
     "outputs_hidden": true,
     "source_hidden": true
    }
   },
   "outputs": [],
   "source": [
    "# Day 1 : FDP Python  [All important codes ]"
   ]
  },
  {
   "cell_type": "code",
   "execution_count": 3,
   "id": "f2d43415-6d0b-4ac0-a6a3-0e0520c80fbf",
   "metadata": {
    "collapsed": true,
    "jupyter": {
     "outputs_hidden": true,
     "source_hidden": true
    }
   },
   "outputs": [],
   "source": [
    "#Python is more near to natural human language."
   ]
  },
  {
   "cell_type": "code",
   "execution_count": 4,
   "id": "2e16ad44-5293-4b4a-9f3b-ac3e10125e6a",
   "metadata": {
    "collapsed": true,
    "jupyter": {
     "outputs_hidden": true,
     "source_hidden": true
    }
   },
   "outputs": [],
   "source": [
    "# For setup , I am using Jupyter Notebook / can use Google Collab"
   ]
  },
  {
   "cell_type": "code",
   "execution_count": 5,
   "id": "82e6668b-fd98-4fb8-84bf-fa1964da6349",
   "metadata": {
    "collapsed": true,
    "jupyter": {
     "outputs_hidden": true,
     "source_hidden": true
    }
   },
   "outputs": [],
   "source": [
    "# The code will be uploaded to my Github as Python-Fundamentals"
   ]
  },
  {
   "cell_type": "code",
   "execution_count": 6,
   "id": "6340ff70-f1fa-458e-ba6c-7dd9896c04b1",
   "metadata": {
    "collapsed": true,
    "jupyter": {
     "outputs_hidden": true,
     "source_hidden": true
    }
   },
   "outputs": [],
   "source": [
    "#Basic Syntax and data"
   ]
  },
  {
   "cell_type": "code",
   "execution_count": 9,
   "id": "b1404a6d-cc33-43d0-8efd-b472f58fbe75",
   "metadata": {
    "collapsed": true,
    "jupyter": {
     "outputs_hidden": true,
     "source_hidden": true
    }
   },
   "outputs": [
    {
     "name": "stdout",
     "output_type": "stream",
     "text": [
      "34\n",
      "Hello\n",
      "3.45\n"
     ]
    }
   ],
   "source": [
    "# anything begins with # is a comment (For explainig the code)\n",
    "x=34 #integer type value\n",
    "y='Hello' # string type value\n",
    "z=3.45 # float type value\n",
    "print(x)\n",
    "print(y)\n",
    "print(z)\n",
    "#printing the value of the above results"
   ]
  },
  {
   "cell_type": "code",
   "execution_count": 12,
   "id": "1a6872cd-4069-4534-bd47-013ff1cd0446",
   "metadata": {
    "collapsed": true,
    "jupyter": {
     "outputs_hidden": true,
     "source_hidden": true
    }
   },
   "outputs": [
    {
     "name": "stdout",
     "output_type": "stream",
     "text": [
      "Hello World\n"
     ]
    }
   ],
   "source": [
    "#concatenation with a string\n",
    "y = \"Hello \"\n",
    "z = \"World\"\n",
    "print(y+z)"
   ]
  },
  {
   "cell_type": "code",
   "execution_count": 13,
   "id": "8c26920a-73bb-4c84-bf7d-aee5dc217522",
   "metadata": {
    "collapsed": true,
    "jupyter": {
     "outputs_hidden": true,
     "source_hidden": true
    }
   },
   "outputs": [
    {
     "data": {
      "text/plain": [
       "'45'"
      ]
     },
     "execution_count": 13,
     "metadata": {},
     "output_type": "execute_result"
    }
   ],
   "source": [
    "#concatenation eg. 2\n",
    "'4'+'5'"
   ]
  },
  {
   "cell_type": "code",
   "execution_count": 15,
   "id": "559e64fa-c83d-40cc-9abe-3ef18149be1a",
   "metadata": {
    "collapsed": true,
    "jupyter": {
     "outputs_hidden": true,
     "source_hidden": true
    }
   },
   "outputs": [
    {
     "data": {
      "text/plain": [
       "int"
      ]
     },
     "execution_count": 15,
     "metadata": {},
     "output_type": "execute_result"
    }
   ],
   "source": [
    "# Datatypes of value\n",
    "type(x)"
   ]
  },
  {
   "cell_type": "code",
   "execution_count": 17,
   "id": "dc4f0372-9b47-4b5f-92a3-f106e05d009a",
   "metadata": {
    "collapsed": true,
    "jupyter": {
     "outputs_hidden": true,
     "source_hidden": true
    }
   },
   "outputs": [
    {
     "data": {
      "text/plain": [
       "float"
      ]
     },
     "execution_count": 17,
     "metadata": {},
     "output_type": "execute_result"
    }
   ],
   "source": [
    "price = 1.99\n",
    "type(price)"
   ]
  },
  {
   "cell_type": "code",
   "execution_count": 1,
   "id": "26baa5b9-e00f-41fe-8879-f5165df32931",
   "metadata": {},
   "outputs": [
    {
     "data": {
      "text/plain": [
       "list"
      ]
     },
     "execution_count": 1,
     "metadata": {},
     "output_type": "execute_result"
    }
   ],
   "source": [
    "list1 = [\"python\",\"python Data Science\", \"Python for AI \", \"Python for opencv\"]\n",
    "type(list1)"
   ]
  },
  {
   "cell_type": "code",
   "execution_count": 2,
   "id": "fbad3614-24aa-4667-8b70-eed96b73101d",
   "metadata": {},
   "outputs": [],
   "source": [
    "#list is value changable on the basis of the index"
   ]
  },
  {
   "cell_type": "code",
   "execution_count": 3,
   "id": "eaf7f7e9-c00d-4b6a-825a-ebaadf6031f5",
   "metadata": {},
   "outputs": [
    {
     "data": {
      "text/plain": [
       "\"Aayush's Pen\""
      ]
     },
     "execution_count": 3,
     "metadata": {},
     "output_type": "execute_result"
    }
   ],
   "source": [
    "# to add the single quote in the double quotes\n",
    "\"Aayush's Pen\""
   ]
  },
  {
   "cell_type": "code",
   "execution_count": 4,
   "id": "8397b782-c78f-4aaa-8fbf-415099fce4fa",
   "metadata": {},
   "outputs": [
    {
     "name": "stdout",
     "output_type": "stream",
     "text": [
      "10\n",
      "30\n",
      "<class 'tuple'>\n"
     ]
    }
   ],
   "source": [
    "coordinates=(10,30)\n",
    "print(coordinates[0])\n",
    "print(coordinates[1])\n",
    "print(type(coordinates))"
   ]
  },
  {
   "cell_type": "code",
   "execution_count": 5,
   "id": "25675ebe-db3e-493f-b266-b63ab67578de",
   "metadata": {},
   "outputs": [
    {
     "data": {
      "text/plain": [
       "range(0, 5)"
      ]
     },
     "execution_count": 5,
     "metadata": {},
     "output_type": "execute_result"
    }
   ],
   "source": [
    "# print the range of the values\n",
    "range(0,5)"
   ]
  },
  {
   "cell_type": "code",
   "execution_count": 6,
   "id": "3e7cd154-b12d-4453-bab9-24a02a3646db",
   "metadata": {},
   "outputs": [
    {
     "name": "stdout",
     "output_type": "stream",
     "text": [
      "range(0, 5)\n",
      "<class 'range'>\n"
     ]
    }
   ],
   "source": [
    "numbers = range(0,5) # it will return a list to the numbers\n",
    "print(numbers)\n",
    "print(type(numbers))"
   ]
  },
  {
   "cell_type": "code",
   "execution_count": 9,
   "id": "950ed51d-f9de-4d04-b946-9a703d9af753",
   "metadata": {},
   "outputs": [
    {
     "name": "stdout",
     "output_type": "stream",
     "text": [
      "0\n",
      "1\n",
      "2\n",
      "3\n",
      "4\n"
     ]
    }
   ],
   "source": [
    "print(numbers[0])\n",
    "print(numbers[1])\n",
    "print(numbers[2])\n",
    "print(numbers[3])\n",
    "print(numbers[4])"
   ]
  },
  {
   "cell_type": "code",
   "execution_count": 11,
   "id": "d526cb4c-1e0f-44d8-9ecd-59c0bc4d4f2a",
   "metadata": {},
   "outputs": [
    {
     "name": "stdout",
     "output_type": "stream",
     "text": [
      "{'name': 'bob', 'age': 25}\n",
      "{'name': 'Aayush', 'age': 25}\n"
     ]
    }
   ],
   "source": [
    "#making a dictionary\n",
    "person={\"name\":\"bob\",\n",
    "        \"age\":25}\n",
    "print(person)\n",
    "#to change the name:\n",
    "person['name']=\"Aayush\"\n",
    "print(person)"
   ]
  },
  {
   "cell_type": "markdown",
   "id": "5202fdf7-831d-405c-97f6-31fddf8ec045",
   "metadata": {},
   "source": []
  },
  {
   "cell_type": "code",
   "execution_count": 12,
   "id": "8b5a1826-0552-463c-b3e8-1b2ea8f979fe",
   "metadata": {},
   "outputs": [
    {
     "name": "stdout",
     "output_type": "stream",
     "text": [
      "{1, 2, 3}\n",
      "<class 'set'>\n"
     ]
    }
   ],
   "source": [
    "set1= {1,2,3}\n",
    "print(set1)\n",
    "print(type(set1))"
   ]
  },
  {
   "cell_type": "code",
   "execution_count": 14,
   "id": "fe24bfbd-22bf-4a9f-ab30-b49aaca6c2b0",
   "metadata": {},
   "outputs": [
    {
     "name": "stdout",
     "output_type": "stream",
     "text": [
      "frozenset({1, 2, 3, 4})\n",
      "<class 'frozenset'>\n",
      "frozenset({1, 2, 3, 4, 5, 6, 7, 8, 9, 10})\n"
     ]
    }
   ],
   "source": [
    "# frozen set is made from a list\n",
    "# it is immutable\n",
    "# Still we can perform the operations of set on that\n",
    "\n",
    "fs = frozenset([1,2,3,4])\n",
    "print(fs)\n",
    "print(type(fs))\n",
    "\n",
    "#we can make a frozen set from a set \n",
    "s = {1,2,3,4,5,6,7,8,9,10}\n",
    "fs2 = frozenset(s)\n",
    "print(fs2)"
   ]
  },
  {
   "cell_type": "code",
   "execution_count": 15,
   "id": "1c1a2620-25c6-467d-b396-210d42dae01e",
   "metadata": {},
   "outputs": [
    {
     "name": "stdout",
     "output_type": "stream",
     "text": [
      "b'20'\n",
      "<class 'bytes'>\n"
     ]
    }
   ],
   "source": [
    "# bytes data is the immutable sequences of bytes\n",
    "bt = b'20'\n",
    "print(bt)\n",
    "print(type(bt))"
   ]
  },
  {
   "cell_type": "code",
   "execution_count": 16,
   "id": "765923db-1a3e-4ad8-817f-aee832edff16",
   "metadata": {},
   "outputs": [
    {
     "name": "stdout",
     "output_type": "stream",
     "text": [
      "bytearray(b'20')\n"
     ]
    }
   ],
   "source": [
    "# byte array is the mutable sequence of the bytes\n",
    "bta = bytearray(bt)\n",
    "print(bta)"
   ]
  },
  {
   "cell_type": "code",
   "execution_count": 17,
   "id": "e9cc3602-fcb4-4555-a6e2-8ee3c446a65a",
   "metadata": {},
   "outputs": [
    {
     "name": "stdout",
     "output_type": "stream",
     "text": [
      "line1 \n",
      "line2\n"
     ]
    }
   ],
   "source": [
    "# escape sequences begin with a back slash \\\n",
    "print(\"line1 \\nline2\")"
   ]
  },
  {
   "cell_type": "code",
   "execution_count": 18,
   "id": "5644b63f-b4cc-40c1-9c74-03785bbad502",
   "metadata": {},
   "outputs": [
    {
     "name": "stdout",
     "output_type": "stream",
     "text": [
      "line1\tline2\n"
     ]
    }
   ],
   "source": [
    "print(\"line1\\tline2\")"
   ]
  },
  {
   "cell_type": "code",
   "execution_count": 20,
   "id": "b10a0437-9468-446f-9d4f-6d2e1baf3163",
   "metadata": {},
   "outputs": [
    {
     "name": "stdout",
     "output_type": "stream",
     "text": [
      "' \"\n"
     ]
    }
   ],
   "source": [
    "# insert apostrophe or double quotes\n",
    "print(\"\\' \\\"\")"
   ]
  },
  {
   "cell_type": "code",
   "execution_count": 21,
   "id": "37bf918c-e52a-4184-be7c-0efbf65237a4",
   "metadata": {},
   "outputs": [
    {
     "name": "stdout",
     "output_type": "stream",
     "text": [
      "11\n"
     ]
    }
   ],
   "source": [
    "# type casting will do the conversion of 1 data type to another\n",
    "print(4+int('7'))"
   ]
  },
  {
   "cell_type": "code",
   "execution_count": 22,
   "id": "e7e1839b-2279-4814-90ff-670ad604d542",
   "metadata": {},
   "outputs": [
    {
     "data": {
      "text/plain": [
       "8.5"
      ]
     },
     "execution_count": 22,
     "metadata": {},
     "output_type": "execute_result"
    }
   ],
   "source": [
    "#implicit type casting: auto conversion\n",
    "4+4.5"
   ]
  },
  {
   "cell_type": "code",
   "execution_count": 23,
   "id": "979a21ca-8804-4735-9cb6-4168640a005d",
   "metadata": {},
   "outputs": [
    {
     "name": "stdout",
     "output_type": "stream",
     "text": [
      "8.5\n",
      "8\n"
     ]
    },
    {
     "data": {
      "text/plain": [
       "int"
      ]
     },
     "execution_count": 23,
     "metadata": {},
     "output_type": "execute_result"
    }
   ],
   "source": [
    "#explicit type casting will be forcing\n",
    "a = 4 + 4.5\n",
    "print(a)\n",
    "type(a)\n",
    "a= int(a)\n",
    "print(a)\n",
    "type(a)"
   ]
  },
  {
   "cell_type": "code",
   "execution_count": 24,
   "id": "e0dca627-31ea-435a-a88e-5d0b9926373d",
   "metadata": {},
   "outputs": [
    {
     "name": "stdin",
     "output_type": "stream",
     "text": [
      "Enter your name : Aayush\n"
     ]
    },
    {
     "name": "stdout",
     "output_type": "stream",
     "text": [
      "Hello , Aayush  Sir !\n"
     ]
    }
   ],
   "source": [
    "# taking the user input :\n",
    "name= input(\"Enter your name :\")\n",
    "print(\"Hello ,\", name,\" Sir !\")"
   ]
  },
  {
   "cell_type": "code",
   "execution_count": 25,
   "id": "c5f6cc1d-0c45-4f11-9493-e003a66bb703",
   "metadata": {},
   "outputs": [
    {
     "name": "stdin",
     "output_type": "stream",
     "text": [
      "Enter your age : 21\n"
     ]
    },
    {
     "name": "stdout",
     "output_type": "stream",
     "text": [
      "Your age is 21\n"
     ]
    }
   ],
   "source": [
    "age = int(input(\"Enter your age :\"))\n",
    "print(\"Your age is\",age)"
   ]
  },
  {
   "cell_type": "code",
   "execution_count": 27,
   "id": "8b0e913b-3201-4996-8af3-b321c97e3813",
   "metadata": {},
   "outputs": [
    {
     "data": {
      "text/plain": [
       "64"
      ]
     },
     "execution_count": 27,
     "metadata": {},
     "output_type": "execute_result"
    }
   ],
   "source": [
    "#same mathematical operations just like the other programming languages\n",
    "5//2 #integer divide\n",
    "25%6 #Remainder divide\n",
    "4**3 #exponentiation"
   ]
  },
  {
   "cell_type": "code",
   "execution_count": 28,
   "id": "6f1fcc91-cc51-43c0-9aa9-40a1e4c89445",
   "metadata": {},
   "outputs": [
    {
     "name": "stdout",
     "output_type": "stream",
     "text": [
      "15\n"
     ]
    }
   ],
   "source": [
    "# augmented operations\n",
    "a=10\n",
    "a+=5\n",
    "print(a)"
   ]
  },
  {
   "cell_type": "code",
   "execution_count": 29,
   "id": "6441d597-b650-4c57-907b-4e852a483651",
   "metadata": {},
   "outputs": [
    {
     "name": "stdout",
     "output_type": "stream",
     "text": [
      "10   10     10\n"
     ]
    }
   ],
   "source": [
    "#multiple assignments\n",
    "x=y=z=10\n",
    "print(x,\" \",y,\" \",\" \",z)"
   ]
  },
  {
   "cell_type": "code",
   "execution_count": null,
   "id": "51c6469a-ef88-42a2-921e-2736e9af54c0",
   "metadata": {},
   "outputs": [],
   "source": [
    "# Bitwise operations\n",
    "#& and\n",
    "#| or\n",
    "#^ xor\n",
    "#~ not"
   ]
  },
  {
   "cell_type": "code",
   "execution_count": 33,
   "id": "13a03ee4-0353-4348-a2ad-9560d6fa37b1",
   "metadata": {},
   "outputs": [
    {
     "name": "stdout",
     "output_type": "stream",
     "text": [
      "good\n",
      "Good\n",
      "2\n",
      "True\n"
     ]
    }
   ],
   "source": [
    "# functions of strings\n",
    "s1=\"good\"\n",
    "print(s1)\n",
    "print(s1.capitalize())\n",
    "print(s1.count('o'))\n",
    "print(s1.endswith('d'))\n"
   ]
  },
  {
   "cell_type": "code",
   "execution_count": null,
   "id": "cbdc6117-4f1a-439d-962c-5bd818012abe",
   "metadata": {},
   "outputs": [],
   "source": []
  },
  {
   "cell_type": "code",
   "execution_count": null,
   "id": "b38e6326-deba-411e-9b04-fdbdc4d7ec00",
   "metadata": {},
   "outputs": [],
   "source": []
  }
 ],
 "metadata": {
  "kernelspec": {
   "display_name": "Python [conda env:base] *",
   "language": "python",
   "name": "conda-base-py"
  },
  "language_info": {
   "codemirror_mode": {
    "name": "ipython",
    "version": 3
   },
   "file_extension": ".py",
   "mimetype": "text/x-python",
   "name": "python",
   "nbconvert_exporter": "python",
   "pygments_lexer": "ipython3",
   "version": "3.13.5"
  }
 },
 "nbformat": 4,
 "nbformat_minor": 5
}
