{
 "cells": [
  {
   "cell_type": "code",
   "execution_count": null,
   "id": "aa394521-80f7-4c1c-9b31-808df7a7960e",
   "metadata": {},
   "outputs": [],
   "source": [
    "# We use Pandas for Data Science , Data Analytics and Machine Learning , it is a library of python based on numpy\n",
    "# is for panel data , series : list and Data frame is any 2dimensional table"
   ]
  },
  {
   "cell_type": "code",
   "execution_count": 1,
   "id": "5e1eb1f7-ce64-4e2a-b0f9-23185eee1ab7",
   "metadata": {},
   "outputs": [],
   "source": [
    "# we will import pandas\n",
    "import pandas as pd"
   ]
  },
  {
   "cell_type": "code",
   "execution_count": 2,
   "id": "4b528d5d-89de-453b-bb57-b284a9992554",
   "metadata": {},
   "outputs": [
    {
     "name": "stdout",
     "output_type": "stream",
     "text": [
      "2.2.3\n"
     ]
    }
   ],
   "source": [
    "#you can install this by pip install pandas \n",
    "print(pd.__version__) #here 2 underscores"
   ]
  },
  {
   "cell_type": "code",
   "execution_count": 4,
   "id": "5f75fd88-ba74-47e2-bc80-73536704f4cd",
   "metadata": {},
   "outputs": [
    {
     "name": "stdout",
     "output_type": "stream",
     "text": [
      "0    100\n",
      "1    102\n",
      "2    104\n",
      "dtype: int64\n"
     ]
    }
   ],
   "source": [
    "#series is one dimensional labelled array  : single list indexed by a label\n",
    "data = [100,102,104] #convert into series\n",
    "\n",
    "series = pd.Series(data) # this is a constructor and not a function\n",
    "print(series)\n",
    "#all data is now a columnar list with the index at the left hand side"
   ]
  },
  {
   "cell_type": "code",
   "execution_count": 5,
   "id": "3cd26bbc-3def-4d77-bc78-91bfcca29dfc",
   "metadata": {},
   "outputs": [
    {
     "name": "stdout",
     "output_type": "stream",
     "text": [
      "0    1.5\n",
      "1    1.6\n",
      "2    1.7\n",
      "dtype: float64\n"
     ]
    }
   ],
   "source": [
    "data = [1.5,1.6,1.7]\n",
    "series = pd.Series(data) # this is a constructor and not a function\n",
    "print(series)"
   ]
  },
  {
   "cell_type": "code",
   "execution_count": 6,
   "id": "6b32dc81-cb24-47c6-aafc-593e1809db35",
   "metadata": {
    "collapsed": true,
    "jupyter": {
     "outputs_hidden": true,
     "source_hidden": true
    }
   },
   "outputs": [
    {
     "name": "stdout",
     "output_type": "stream",
     "text": [
      "0    a\n",
      "1    e\n",
      "2    i\n",
      "3    o\n",
      "4    u\n",
      "dtype: object\n"
     ]
    }
   ],
   "source": [
    "data = ['a','e','i','o','u']\n",
    "series = pd.Series(data) # this is a constructor and not a function\n",
    "print(series)"
   ]
  },
  {
   "cell_type": "code",
   "execution_count": 7,
   "id": "fe1f0b3b-4a87-42f9-ab61-9108a5e4c575",
   "metadata": {},
   "outputs": [
    {
     "name": "stdout",
     "output_type": "stream",
     "text": [
      "0     True\n",
      "1    False\n",
      "2     True\n",
      "dtype: bool\n"
     ]
    }
   ],
   "source": [
    "data = [True,False,True]\n",
    "series = pd.Series(data) # this is a constructor and not a function\n",
    "print(series)"
   ]
  },
  {
   "cell_type": "code",
   "execution_count": 8,
   "id": "4845625f-323b-4364-8354-b7e21d11f53a",
   "metadata": {},
   "outputs": [
    {
     "name": "stdout",
     "output_type": "stream",
     "text": [
      "1    a\n",
      "2    e\n",
      "3    i\n",
      "4    o\n",
      "5    u\n",
      "dtype: object\n"
     ]
    }
   ],
   "source": [
    "#The index begins from 0 by default\n",
    "data = ['a','e','i','o','u']\n",
    "series = pd.Series(data,index=[\"1\",\"2\",\"3\",\"4\",\"5\"]) # we can set the labels as a list , tuple ,series\n",
    "print(series)"
   ]
  },
  {
   "cell_type": "code",
   "execution_count": 10,
   "id": "8f3a5344-6910-427d-90c4-362d3a96f9ec",
   "metadata": {},
   "outputs": [
    {
     "name": "stdout",
     "output_type": "stream",
     "text": [
      "a\n"
     ]
    }
   ],
   "source": [
    "print(series.loc[\"1\"]) # return the value when the label is 1 , get a key error when the label is absent in series."
   ]
  },
  {
   "cell_type": "code",
   "execution_count": 11,
   "id": "ddd56f9a-e31b-4255-8925-4041b435f64e",
   "metadata": {},
   "outputs": [
    {
     "name": "stdout",
     "output_type": "stream",
     "text": [
      "a\n"
     ]
    }
   ],
   "source": [
    "# we are locating a value through the label, since all the index values are int type, we will use iloc in place of loc\n",
    "print(series.iloc[0])"
   ]
  },
  {
   "cell_type": "code",
   "execution_count": 15,
   "id": "5e017a0a-29eb-4649-a522-190e4bd71996",
   "metadata": {
    "scrolled": true
   },
   "outputs": [
    {
     "name": "stdout",
     "output_type": "stream",
     "text": [
      "House #2    2\n",
      "House #3    3\n",
      "House #4    4\n",
      "House #5    5\n",
      "dtype: int64\n"
     ]
    }
   ],
   "source": [
    "#filtering : give me the house number where the number is greater than or equal to 2\n",
    "data = [1,2,3,4,5]\n",
    "series = pd.Series(data,index=[\"House #1\",\"House #2\",\"House #3\",\"House #4\",\"House #5\"]) \n",
    "print(series[series>=2])"
   ]
  },
  {
   "cell_type": "code",
   "execution_count": 30,
   "id": "7ac5666a-b019-4553-ba31-7804f657a8f2",
   "metadata": {},
   "outputs": [
    {
     "name": "stdout",
     "output_type": "stream",
     "text": [
      "Day1    1750\n",
      "Day2    2100\n",
      "Day3    1700\n",
      "dtype: int64\n"
     ]
    }
   ],
   "source": [
    "#using the dictionary\n",
    "calories= {\n",
    "           \"Day1\":1750,\n",
    "           \"Day2\":2100,\n",
    "           \"Day3\":1700} #all the keys become the labels\n",
    "series = pd.Series(calories)\n",
    "print(series)"
   ]
  },
  {
   "cell_type": "code",
   "execution_count": 31,
   "id": "e5459001-a0a4-49df-a8c2-fbd8d1720ba2",
   "metadata": {},
   "outputs": [
    {
     "name": "stdout",
     "output_type": "stream",
     "text": [
      "2200 (+500) You ate a cookie .\n"
     ]
    }
   ],
   "source": [
    "# to add the values:\n",
    "series.loc[\"Day3\"] += 500\n",
    "print(series.loc[\"Day3\"], \"(+500) You ate a cookie .\")"
   ]
  },
  {
   "cell_type": "code",
   "execution_count": 33,
   "id": "1e2aedbc-f7f9-45bf-b1e5-93922e36323f",
   "metadata": {},
   "outputs": [
    {
     "name": "stdout",
     "output_type": "stream",
     "text": [
      "Day2    2100\n",
      "Day3    2200\n",
      "dtype: int64\n"
     ]
    }
   ],
   "source": [
    "#filter by value : when you did not stick to your diet (means calories exceeded 2000 calories)\n",
    "print(series[series >= 2000])"
   ]
  }
 ],
 "metadata": {
  "kernelspec": {
   "display_name": "Python [conda env:base] *",
   "language": "python",
   "name": "conda-base-py"
  },
  "language_info": {
   "codemirror_mode": {
    "name": "ipython",
    "version": 3
   },
   "file_extension": ".py",
   "mimetype": "text/x-python",
   "name": "python",
   "nbconvert_exporter": "python",
   "pygments_lexer": "ipython3",
   "version": "3.13.5"
  }
 },
 "nbformat": 4,
 "nbformat_minor": 5
}
